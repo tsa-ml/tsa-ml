{
 "cells": [
  {
   "cell_type": "markdown",
   "id": "280959b1",
   "metadata": {},
   "source": [
    "# <font color=purple>SPARQL queries - Use Cases</font>\n",
    "\n",
    "## <font color=purple>Background</font>\n",
    "\n",
    "The following are SPARQL queries that address the below research questions.\n",
    "\n",
    "1. **<font color=blue>What are the trends of people's occupations over the years between 1980's to 2020's?</font>**\n",
    "2. **<font color=blue>Are there more older people who work in professional roles?</font>**\n",
    "3. What is the age of people who is born outside of mainland China?\n",
    "4. Are there more younger people who was born Hong Kong than in mainland China?\n",
    "5. What are the differences in occupations between older people who were born in Taiwan and mainland China?\n",
    "6. Are there more younger people who have a university degree and who was born in Hong Kong?\n",
    "7. Does people who work in professional roles will have less children?\n"
   ]
  },
  {
   "cell_type": "markdown",
   "id": "d19e4fc1",
   "metadata": {},
   "source": [
    "## <font color=purple>Setup endpoints with graph database</font>\n",
    "\n",
    "We will use the graph database endpoints to retrieve data using SPARQL queries. Below is for an [AllegraGraph](https://allegrograph.com/products/allegrograph/) instance running on a local machine. These parameters can be changed if the graph database and data is resided on the cloud. "
   ]
  },
  {
   "cell_type": "code",
   "execution_count": 2,
   "id": "6ae08d1c",
   "metadata": {},
   "outputs": [
    {
     "data": {
      "text/html": [
       "<div class=\"krn-spql\"><div class=\"magic\">Endpoint set to: http://localhost:10035/repositories/surveydatacommons/sparql</div><div class=\"magic\">HTTP authentication: method=basic, user=test, passwd set</div><div class=\"magic\">Display: table<br/>Show Types: on</div></div>"
      ],
      "text/plain": [
       "Endpoint set to: http://localhost:10035/repositories/surveydatacommons/sparql\n",
       "HTTP authentication: method=basic, user=test, passwd set\n",
       "Display: table\n",
       "Show Types: on\n"
      ]
     },
     "metadata": {},
     "output_type": "display_data"
    }
   ],
   "source": [
    "# setup endpoint and display for current notes\n",
    "\n",
    "%endpoint http://localhost:10035/repositories/surveydatacommons/sparql\n",
    "%auth basic test xyzzy\n",
    "%display table withtypes"
   ]
  },
  {
   "cell_type": "markdown",
   "id": "b3016377",
   "metadata": {},
   "source": [
    "## <font color=purple>Retrieve all datasets over time from the graph database</font>\n",
    "\n",
    "The below SPARQL query retrieves all datasets from the graph database at one specific point in time, or between a time period. These datasets can be used to perform a time-series analysis."
   ]
  },
  {
   "cell_type": "markdown",
   "id": "cb867efa",
   "metadata": {},
   "source": [
    "### Obtain all datasets that was capture in 1981 within the first wave of study"
   ]
  },
  {
   "cell_type": "code",
   "execution_count": 2,
   "id": "5fdc0716",
   "metadata": {},
   "outputs": [
    {
     "data": {
      "text/html": [
       "<div class=\"krn-spql\"><table><tr class=hdr><th>participant</th><th>type</th></tr><tr class=odd><td class=val>4307</td><td class=typ>literal, none</td></tr></table><div class=\"tinfo\">Total: 1, Shown: 1</div></div>"
      ]
     },
     "metadata": {},
     "output_type": "display_data"
    }
   ],
   "source": [
    "PREFIX cwork: <http://schema.org/CreativeWork>\n",
    "\n",
    "# View triples\n",
    "SELECT (COUNT(?_contributor) AS $participant)  WHERE\n",
    "{ \n",
    "  ?Dataset cwork:name ?object ;\n",
    "           cwork:identifier '1' ;\n",
    "           cwork:contentReferenceTime '1985' ;\n",
    "           cwork:contributor ?_contributor .\n",
    "} ORDER BY ?_year"
   ]
  },
  {
   "cell_type": "markdown",
   "id": "c54ddd3d",
   "metadata": {},
   "source": [
    "### Obtain the dataset of the contributor who identify's with 3335200715"
   ]
  },
  {
   "cell_type": "code",
   "execution_count": 3,
   "id": "60d66fc1",
   "metadata": {},
   "outputs": [
    {
     "data": {
      "text/html": [
       "<div class=\"krn-spql\"><table><tr class=hdr><th>_year</th><th>type</th>\n",
       "<th>_wave</th><th>type</th></tr><tr class=odd><td class=val>1985</td><td class=typ>literal, none</td>\n",
       "<td class=val>2</td><td class=typ>literal, none</td></tr><tr class=even><td class=val>1985</td><td class=typ>literal, none</td>\n",
       "<td class=val>1</td><td class=typ>literal, none</td></tr></table><div class=\"tinfo\">Total: 2, Shown: 2</div></div>"
      ]
     },
     "metadata": {},
     "output_type": "display_data"
    }
   ],
   "source": [
    "PREFIX cwork: <http://schema.org/CreativeWork>\n",
    "\n",
    "# View triples\n",
    "SELECT DISTINCT ?_year ?_wave\n",
    "WHERE\n",
    "{ \n",
    "  ?Dataset cwork:name $_name ;\n",
    "           cwork:contentReferenceTime ?_year ;\n",
    "           cwork:identifier ?_wave ;\n",
    "           cwork:contributor ?_contributor . \n",
    "  FILTER regex(str(?_contributor), '3335200715') . \n",
    "}"
   ]
  },
  {
   "cell_type": "markdown",
   "id": "57b0619d",
   "metadata": {},
   "source": [
    "### Obtain all participants by year who contributed to datasets across all time periods "
   ]
  },
  {
   "cell_type": "code",
   "execution_count": 4,
   "id": "09e72f37",
   "metadata": {},
   "outputs": [
    {
     "data": {
      "text/html": [
       "<div class=\"krn-spql\"><table><tr class=hdr><th>_contributor</th><th>type</th>\n",
       "<th>_year</th><th>type</th>\n",
       "<th>_wave</th><th>type</th></tr><tr class=odd><td class=val>per:tscs1_per#3335200715</td><td class=typ>literal, none</td>\n",
       "<td class=val>1985</td><td class=typ>literal, none</td>\n",
       "<td class=val>1</td><td class=typ>literal, none</td></tr><tr class=even><td class=val>per:tscs1_per#3335200714</td><td class=typ>literal, none</td>\n",
       "<td class=val>1985</td><td class=typ>literal, none</td>\n",
       "<td class=val>1</td><td class=typ>literal, none</td></tr><tr class=odd><td class=val>per:tscs1_per#3335200713</td><td class=typ>literal, none</td>\n",
       "<td class=val>1985</td><td class=typ>literal, none</td>\n",
       "<td class=val>1</td><td class=typ>literal, none</td></tr><tr class=even><td class=val>per:tscs1_per#3335200712</td><td class=typ>literal, none</td>\n",
       "<td class=val>1985</td><td class=typ>literal, none</td>\n",
       "<td class=val>1</td><td class=typ>literal, none</td></tr><tr class=odd><td class=val>per:tscs1_per#3335200711</td><td class=typ>literal, none</td>\n",
       "<td class=val>1985</td><td class=typ>literal, none</td>\n",
       "<td class=val>1</td><td class=typ>literal, none</td></tr><tr class=even><td class=val>per:tscs1_per#3335200710</td><td class=typ>literal, none</td>\n",
       "<td class=val>1985</td><td class=typ>literal, none</td>\n",
       "<td class=val>1</td><td class=typ>literal, none</td></tr><tr class=odd><td class=val>per:tscs1_per#3335200709</td><td class=typ>literal, none</td>\n",
       "<td class=val>1985</td><td class=typ>literal, none</td>\n",
       "<td class=val>1</td><td class=typ>literal, none</td></tr><tr class=even><td class=val>per:tscs1_per#3335200708</td><td class=typ>literal, none</td>\n",
       "<td class=val>1985</td><td class=typ>literal, none</td>\n",
       "<td class=val>1</td><td class=typ>literal, none</td></tr><tr class=odd><td class=val>per:tscs1_per#3335200707</td><td class=typ>literal, none</td>\n",
       "<td class=val>1985</td><td class=typ>literal, none</td>\n",
       "<td class=val>1</td><td class=typ>literal, none</td></tr><tr class=even><td class=val>per:tscs1_per#3335200706</td><td class=typ>literal, none</td>\n",
       "<td class=val>1985</td><td class=typ>literal, none</td>\n",
       "<td class=val>1</td><td class=typ>literal, none</td></tr><tr class=odd><td class=val>per:tscs1_per#3335200705</td><td class=typ>literal, none</td>\n",
       "<td class=val>1985</td><td class=typ>literal, none</td>\n",
       "<td class=val>1</td><td class=typ>literal, none</td></tr><tr class=even><td class=val>per:tscs1_per#3335200704</td><td class=typ>literal, none</td>\n",
       "<td class=val>1985</td><td class=typ>literal, none</td>\n",
       "<td class=val>1</td><td class=typ>literal, none</td></tr><tr class=odd><td class=val>per:tscs1_per#3335200703</td><td class=typ>literal, none</td>\n",
       "<td class=val>1985</td><td class=typ>literal, none</td>\n",
       "<td class=val>1</td><td class=typ>literal, none</td></tr><tr class=even><td class=val>per:tscs1_per#3335200702</td><td class=typ>literal, none</td>\n",
       "<td class=val>1985</td><td class=typ>literal, none</td>\n",
       "<td class=val>1</td><td class=typ>literal, none</td></tr><tr class=odd><td class=val>per:tscs1_per#3335200701</td><td class=typ>literal, none</td>\n",
       "<td class=val>1985</td><td class=typ>literal, none</td>\n",
       "<td class=val>1</td><td class=typ>literal, none</td></tr><tr class=even><td class=val>per:tscs1_per#3335100415</td><td class=typ>literal, none</td>\n",
       "<td class=val>1985</td><td class=typ>literal, none</td>\n",
       "<td class=val>1</td><td class=typ>literal, none</td></tr><tr class=odd><td class=val>per:tscs1_per#3335100414</td><td class=typ>literal, none</td>\n",
       "<td class=val>1985</td><td class=typ>literal, none</td>\n",
       "<td class=val>1</td><td class=typ>literal, none</td></tr><tr class=even><td class=val>per:tscs1_per#3335100413</td><td class=typ>literal, none</td>\n",
       "<td class=val>1985</td><td class=typ>literal, none</td>\n",
       "<td class=val>1</td><td class=typ>literal, none</td></tr><tr class=odd><td class=val>per:tscs1_per#3335100412</td><td class=typ>literal, none</td>\n",
       "<td class=val>1985</td><td class=typ>literal, none</td>\n",
       "<td class=val>1</td><td class=typ>literal, none</td></tr><tr class=even><td class=val>per:tscs1_per#3335100411</td><td class=typ>literal, none</td>\n",
       "<td class=val>1985</td><td class=typ>literal, none</td>\n",
       "<td class=val>1</td><td class=typ>literal, none</td></tr></table><div class=\"tinfo\">Total: 141905, Shown: 20</div></div>"
      ]
     },
     "metadata": {},
     "output_type": "display_data"
    }
   ],
   "source": [
    "PREFIX cwork: <http://schema.org/CreativeWork>\n",
    "\n",
    "# View triples\n",
    "SELECT ?_contributor ?_year ?_wave\n",
    "WHERE\n",
    "{ \n",
    "    ?Dataset cwork:name $object ;\n",
    "             cwork:contentReferenceTime ?_year ;\n",
    "             cwork:identifier ?_wave ;\n",
    "             cwork:contributor ?_contributor . \n",
    "} ORDER BY ?_year"
   ]
  },
  {
   "cell_type": "markdown",
   "id": "609e98a9",
   "metadata": {},
   "source": [
    "### Obtain the number of participants who contributed to datasets across all time periods"
   ]
  },
  {
   "cell_type": "code",
   "execution_count": 5,
   "id": "2a31aa73",
   "metadata": {},
   "outputs": [
    {
     "data": {
      "text/html": [
       "<div class=\"krn-spql\"><table><tr class=hdr><th>year</th><th>type</th>\n",
       "<th>wave</th><th>type</th>\n",
       "<th>participant_no</th><th>type</th></tr><tr class=odd><td class=val>1985</td><td class=typ>literal, none</td>\n",
       "<td class=val>2</td><td class=typ>literal, none</td>\n",
       "<td class=val>4199</td><td class=typ>literal, none</td></tr><tr class=even><td class=val>1985</td><td class=typ>literal, none</td>\n",
       "<td class=val>1</td><td class=typ>literal, none</td>\n",
       "<td class=val>4307</td><td class=typ>literal, none</td></tr><tr class=odd><td class=val>1990</td><td class=typ>literal, none</td>\n",
       "<td class=val>4</td><td class=typ>literal, none</td>\n",
       "<td class=val>2531</td><td class=typ>literal, none</td></tr><tr class=even><td class=val>1990</td><td class=typ>literal, none</td>\n",
       "<td class=val>3</td><td class=typ>literal, none</td>\n",
       "<td class=val>2531</td><td class=typ>literal, none</td></tr><tr class=odd><td class=val>1990</td><td class=typ>literal, none</td>\n",
       "<td class=val>1</td><td class=typ>literal, none</td>\n",
       "<td class=val>1000</td><td class=typ>literal, none</td></tr><tr class=even><td class=val>1991</td><td class=typ>literal, none</td>\n",
       "<td class=val>6</td><td class=typ>literal, none</td>\n",
       "<td class=val>1139</td><td class=typ>literal, none</td></tr><tr class=odd><td class=val>1991</td><td class=typ>literal, none</td>\n",
       "<td class=val>5</td><td class=typ>literal, none</td>\n",
       "<td class=val>2488</td><td class=typ>literal, none</td></tr><tr class=even><td class=val>1992</td><td class=typ>literal, none</td>\n",
       "<td class=val>8</td><td class=typ>literal, none</td>\n",
       "<td class=val>1408</td><td class=typ>literal, none</td></tr><tr class=odd><td class=val>1992</td><td class=typ>literal, none</td>\n",
       "<td class=val>7</td><td class=typ>literal, none</td>\n",
       "<td class=val>2377</td><td class=typ>literal, none</td></tr><tr class=even><td class=val>1993</td><td class=typ>literal, none</td>\n",
       "<td class=val>9</td><td class=typ>literal, none</td>\n",
       "<td class=val>1946</td><td class=typ>literal, none</td></tr><tr class=odd><td class=val>1994</td><td class=typ>literal, none</td>\n",
       "<td class=val>10</td><td class=typ>literal, none</td>\n",
       "<td class=val>1853</td><td class=typ>literal, none</td></tr><tr class=even><td class=val>1994</td><td class=typ>literal, none</td>\n",
       "<td class=val>11</td><td class=typ>literal, none</td>\n",
       "<td class=val>1862</td><td class=typ>literal, none</td></tr><tr class=odd><td class=val>1995</td><td class=typ>literal, none</td>\n",
       "<td class=val>13</td><td class=typ>literal, none</td>\n",
       "<td class=val>2081</td><td class=typ>literal, none</td></tr><tr class=even><td class=val>1995</td><td class=typ>literal, none</td>\n",
       "<td class=val>2</td><td class=typ>literal, none</td>\n",
       "<td class=val>1500</td><td class=typ>literal, none</td></tr><tr class=odd><td class=val>1995</td><td class=typ>literal, none</td>\n",
       "<td class=val>12</td><td class=typ>literal, none</td>\n",
       "<td class=val>2093</td><td class=typ>literal, none</td></tr><tr class=even><td class=val>1996</td><td class=typ>literal, none</td>\n",
       "<td class=val>14</td><td class=typ>literal, none</td>\n",
       "<td class=val>1924</td><td class=typ>literal, none</td></tr><tr class=odd><td class=val>1996</td><td class=typ>literal, none</td>\n",
       "<td class=val>15</td><td class=typ>literal, none</td>\n",
       "<td class=val>2831</td><td class=typ>literal, none</td></tr><tr class=even><td class=val>1997</td><td class=typ>literal, none</td>\n",
       "<td class=val>17</td><td class=typ>literal, none</td>\n",
       "<td class=val>2835</td><td class=typ>literal, none</td></tr><tr class=odd><td class=val>1997</td><td class=typ>literal, none</td>\n",
       "<td class=val>16</td><td class=typ>literal, none</td>\n",
       "<td class=val>2596</td><td class=typ>literal, none</td></tr><tr class=even><td class=val>1997</td><td class=typ>literal, none</td>\n",
       "<td class=val>18</td><td class=typ>literal, none</td>\n",
       "<td class=val>1717</td><td class=typ>literal, none</td></tr></table><div class=\"tinfo\">Total: 72, Shown: 20</div></div>"
      ]
     },
     "metadata": {},
     "output_type": "display_data"
    }
   ],
   "source": [
    "PREFIX cwork: <http://schema.org/CreativeWork>\n",
    "\n",
    "# View triples\n",
    "SELECT (SAMPLE(?_year) AS $year)\n",
    "       (SAMPLE(?_wave) AS $wave)\n",
    "       (COUNT(?_contributor) AS $participant_no) \n",
    "WHERE \n",
    "{\n",
    "  ?Dataset cwork:name $object ;\n",
    "           cwork:contentReferenceTime ?_year ;\n",
    "           cwork:identifier ?_wave ;\n",
    "           cwork:contributor ?_contributor . \n",
    "}\n",
    "GROUP BY ?Dataset\n",
    "ORDER BY ?_year"
   ]
  },
  {
   "cell_type": "markdown",
   "id": "a5d6057a",
   "metadata": {},
   "source": [
    "## <font color=purple>Retrieve all persons who have contributed to a dataset from the graph database</font>\n",
    "\n",
    "The below SPARQL query retrieve people who have contributed to a dataset from the graph database across all time periods."
   ]
  },
  {
   "cell_type": "markdown",
   "id": "b1c6351b",
   "metadata": {},
   "source": [
    "### Obtain all participants across all time periods"
   ]
  },
  {
   "cell_type": "code",
   "execution_count": 6,
   "id": "b5dfcc77",
   "metadata": {},
   "outputs": [
    {
     "data": {
      "text/html": [
       "<div class=\"krn-spql\"><table><tr class=hdr><th>Person</th><th>type</th></tr><tr class=odd><td class=val><a href=\"http://schema.org/Persontscs31_per#82202\" target=\"_other\">http://schema.org/Persontscs31_per#82202</a></td><td class=typ>uri</td></tr><tr class=even><td class=val><a href=\"http://schema.org/Persontscs31_per#82202\" target=\"_other\">http://schema.org/Persontscs31_per#82202</a></td><td class=typ>uri</td></tr><tr class=odd><td class=val><a href=\"http://schema.org/Persontscs31_per#82202\" target=\"_other\">http://schema.org/Persontscs31_per#82202</a></td><td class=typ>uri</td></tr><tr class=even><td class=val><a href=\"http://schema.org/Persontscs31_per#82236\" target=\"_other\">http://schema.org/Persontscs31_per#82236</a></td><td class=typ>uri</td></tr><tr class=odd><td class=val><a href=\"http://schema.org/Persontscs31_per#82236\" target=\"_other\">http://schema.org/Persontscs31_per#82236</a></td><td class=typ>uri</td></tr><tr class=even><td class=val><a href=\"http://schema.org/Persontscs31_per#82236\" target=\"_other\">http://schema.org/Persontscs31_per#82236</a></td><td class=typ>uri</td></tr><tr class=odd><td class=val><a href=\"http://schema.org/Persontscs31_per#82236\" target=\"_other\">http://schema.org/Persontscs31_per#82236</a></td><td class=typ>uri</td></tr><tr class=even><td class=val><a href=\"http://schema.org/Persontscs31_per#82236\" target=\"_other\">http://schema.org/Persontscs31_per#82236</a></td><td class=typ>uri</td></tr><tr class=odd><td class=val><a href=\"http://schema.org/Persontscs31_per#82236\" target=\"_other\">http://schema.org/Persontscs31_per#82236</a></td><td class=typ>uri</td></tr><tr class=even><td class=val><a href=\"http://schema.org/Persontscs31_per#82236_spouse_1\" target=\"_other\">http://schema.org/Persontscs31_per#82236_spouse_1</a></td><td class=typ>uri</td></tr><tr class=odd><td class=val><a href=\"http://schema.org/Persontscs31_per#82236_spouse_1\" target=\"_other\">http://schema.org/Persontscs31_per#82236_spouse_1</a></td><td class=typ>uri</td></tr><tr class=even><td class=val><a href=\"http://schema.org/Persontscs31_per#82213\" target=\"_other\">http://schema.org/Persontscs31_per#82213</a></td><td class=typ>uri</td></tr><tr class=odd><td class=val><a href=\"http://schema.org/Persontscs31_per#82213\" target=\"_other\">http://schema.org/Persontscs31_per#82213</a></td><td class=typ>uri</td></tr><tr class=even><td class=val><a href=\"http://schema.org/Persontscs31_per#82213\" target=\"_other\">http://schema.org/Persontscs31_per#82213</a></td><td class=typ>uri</td></tr><tr class=odd><td class=val><a href=\"http://schema.org/Persontscs31_per#82213\" target=\"_other\">http://schema.org/Persontscs31_per#82213</a></td><td class=typ>uri</td></tr><tr class=even><td class=val><a href=\"http://schema.org/Persontscs31_per#82213\" target=\"_other\">http://schema.org/Persontscs31_per#82213</a></td><td class=typ>uri</td></tr><tr class=odd><td class=val><a href=\"http://schema.org/Persontscs31_per#82213\" target=\"_other\">http://schema.org/Persontscs31_per#82213</a></td><td class=typ>uri</td></tr><tr class=even><td class=val><a href=\"http://schema.org/Persontscs31_per#82213_spouse_1\" target=\"_other\">http://schema.org/Persontscs31_per#82213_spouse_1</a></td><td class=typ>uri</td></tr><tr class=odd><td class=val><a href=\"http://schema.org/Persontscs31_per#82213_spouse_1\" target=\"_other\">http://schema.org/Persontscs31_per#82213_spouse_1</a></td><td class=typ>uri</td></tr><tr class=even><td class=val><a href=\"http://schema.org/Persontscs31_per#82209\" target=\"_other\">http://schema.org/Persontscs31_per#82209</a></td><td class=typ>uri</td></tr></table><div class=\"tinfo\">Total: 2998169, Shown: 20</div></div>"
      ]
     },
     "metadata": {},
     "output_type": "display_data"
    }
   ],
   "source": [
    "PREFIX per: <http://schema.org/Person>\n",
    "\n",
    "# View triples\n",
    "SELECT ?Person  \n",
    "WHERE { \n",
    "  ?Person ?predicate ?object ;\n",
    "          a per:Person\n",
    "}"
   ]
  },
  {
   "cell_type": "markdown",
   "id": "b7b5a3d8",
   "metadata": {},
   "source": [
    "### Obtain all participant's occupations across all time periods"
   ]
  },
  {
   "cell_type": "code",
   "execution_count": 7,
   "id": "5bc3083d",
   "metadata": {},
   "outputs": [
    {
     "data": {
      "text/html": [
       "<div class=\"krn-spql\"><table><tr class=hdr><th>_identifier</th><th>type</th>\n",
       "<th>_occupation_name</th><th>type</th></tr><tr class=odd><td class=val>2202805207</td><td class=typ>literal, none</td>\n",
       "<td class=val>Agricultural and Animal Husbandry Workers</td><td class=typ>literal, none</td></tr><tr class=even><td class=val>2202805209</td><td class=typ>literal, none</td>\n",
       "<td class=val>Agricultural and Animal Husbandry Workers</td><td class=typ>literal, none</td></tr><tr class=odd><td class=val>2202805215</td><td class=typ>literal, none</td>\n",
       "<td class=val>Agricultural and Animal Husbandry Workers</td><td class=typ>literal, none</td></tr><tr class=even><td class=val>1137700601</td><td class=typ>literal, none</td>\n",
       "<td class=val>Agricultural and Animal Husbandry Workers</td><td class=typ>literal, none</td></tr><tr class=odd><td class=val>3101202401</td><td class=typ>literal, none</td>\n",
       "<td class=val>Agricultural and Animal Husbandry Workers</td><td class=typ>literal, none</td></tr><tr class=even><td class=val>3201302013</td><td class=typ>literal, none</td>\n",
       "<td class=val>Agricultural and Animal Husbandry Workers</td><td class=typ>literal, none</td></tr><tr class=odd><td class=val>3201302101</td><td class=typ>literal, none</td>\n",
       "<td class=val>Agricultural and Animal Husbandry Workers</td><td class=typ>literal, none</td></tr><tr class=even><td class=val>3201302123</td><td class=typ>literal, none</td>\n",
       "<td class=val>Agricultural and Animal Husbandry Workers</td><td class=typ>literal, none</td></tr><tr class=odd><td class=val>3201302127</td><td class=typ>literal, none</td>\n",
       "<td class=val>Agricultural and Animal Husbandry Workers</td><td class=typ>literal, none</td></tr><tr class=even><td class=val>3201700921</td><td class=typ>literal, none</td>\n",
       "<td class=val>Agricultural and Animal Husbandry Workers</td><td class=typ>literal, none</td></tr><tr class=odd><td class=val>3104903715</td><td class=typ>literal, none</td>\n",
       "<td class=val>Agricultural and Animal Husbandry Workers</td><td class=typ>literal, none</td></tr><tr class=even><td class=val>3207302101</td><td class=typ>literal, none</td>\n",
       "<td class=val>Agricultural and Animal Husbandry Workers</td><td class=typ>literal, none</td></tr><tr class=odd><td class=val>3208402313</td><td class=typ>literal, none</td>\n",
       "<td class=val>Agricultural and Animal Husbandry Workers</td><td class=typ>literal, none</td></tr><tr class=even><td class=val>3109500407</td><td class=typ>literal, none</td>\n",
       "<td class=val>Agricultural and Animal Husbandry Workers</td><td class=typ>literal, none</td></tr><tr class=odd><td class=val>3109500419</td><td class=typ>literal, none</td>\n",
       "<td class=val>Agricultural and Animal Husbandry Workers</td><td class=typ>literal, none</td></tr><tr class=even><td class=val>3310000607</td><td class=typ>literal, none</td>\n",
       "<td class=val>Agricultural and Animal Husbandry Workers</td><td class=typ>literal, none</td></tr><tr class=odd><td class=val>3310000621</td><td class=typ>literal, none</td>\n",
       "<td class=val>Agricultural and Animal Husbandry Workers</td><td class=typ>literal, none</td></tr><tr class=even><td class=val>3310000623</td><td class=typ>literal, none</td>\n",
       "<td class=val>Agricultural and Animal Husbandry Workers</td><td class=typ>literal, none</td></tr><tr class=odd><td class=val>3210002207</td><td class=typ>literal, none</td>\n",
       "<td class=val>Agricultural and Animal Husbandry Workers</td><td class=typ>literal, none</td></tr><tr class=even><td class=val>3110600115</td><td class=typ>literal, none</td>\n",
       "<td class=val>Agricultural and Animal Husbandry Workers</td><td class=typ>literal, none</td></tr></table><div class=\"tinfo\">Total: 69703, Shown: 20</div></div>"
      ]
     },
     "metadata": {},
     "output_type": "display_data"
    }
   ],
   "source": [
    "PREFIX per: <http://schema.org/Person>\n",
    "PREFIX occ: <http://schema.org/Occupation>\n",
    "\n",
    "# View triples\n",
    "SELECT DISTINCT ?_identifier ?_occupation_name\n",
    "WHERE\n",
    "{\n",
    "  ?subject a ?Person ;\n",
    "           per:identifier ?_identifier ;\n",
    "           per:hasOccupation ?_occupation .\n",
    "  ?_occupation occ:name ?_occupation_name . \n",
    "}"
   ]
  }
 ],
 "metadata": {
  "kernelspec": {
   "display_name": "SPARQL",
   "language": "sparql",
   "name": "sparql"
  },
  "language_info": {
   "codemirror_mode": {
    "name": "sparql"
   },
   "mimetype": "application/sparql-query",
   "name": "sparql",
   "pygments_lexer": "sparql-nb"
  }
 },
 "nbformat": 4,
 "nbformat_minor": 5
}
